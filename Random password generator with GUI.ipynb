{
 "cells": [
  {
   "cell_type": "code",
   "execution_count": 8,
   "metadata": {},
   "outputs": [
    {
     "name": "stdout",
     "output_type": "stream",
     "text": [
      "Requirement already satisfied: pyperclip in c:\\users\\user\\anaconda3\\lib\\site-packages (1.8.1)\n"
     ]
    }
   ],
   "source": [
    "# importing the tkinter module\n",
    "from tkinter import *\n",
    "\n",
    "# importing the pyperclip module to use it to copy our generated \n",
    "# password to clipboard\n",
    "!pip install pyperclip\n",
    "import pyperclip\n",
    "\n",
    "# random module will be used in generating the random password\n",
    "import random\n",
    "\n",
    "# initializing the tkinter\n",
    "root = Tk()\n",
    "root.title(\"Random password generator\")\n",
    "\n",
    "\n",
    "# setting the width and height of the gui\n",
    "root.geometry(\"400x400\")    # x is small case here\n",
    "\n",
    "# declaring a variable of string type and this variable will be \n",
    "# used to store the password generated\n",
    "passstr = StringVar()\n",
    "\n",
    "# declaring a variable of integer type which will be used to \n",
    "# store the length of the password entered by the user\n",
    "passlen = IntVar()\n",
    "\n",
    "# setting the length of the password to zero initially\n",
    "passlen.set(0)\n",
    "\n",
    "\n",
    "# function to generate the password\n",
    "def generate():\n",
    "    # storing the keys in a list which will be used to generate \n",
    "    # the password \n",
    "    pass1 = ['a', 'b', 'c', 'd', 'e', 'f', 'g', 'h', 'i', 'j',\n",
    "            'k', 'l', 'm', 'n', 'o', 'p', 'q', 'r', 's', 't', \n",
    "            'u', 'v', 'w', 'x', 'y', 'z', 'A', 'B', 'C', 'D',\n",
    "            'E', 'F', 'G', 'H', 'I', 'J', 'K', 'L', 'M', 'N',\n",
    "            'O', 'P', 'Q', 'R', 'S', 'T', 'U', 'V', 'W', 'X', \n",
    "            'Y', 'Z', '1', '2', '3', '4', '5', '6', '7', '8', \n",
    "            '9', '0', ' ', '!', '@', '#', '$', '%', '^', '&', \n",
    "            '*', '(', ')']\n",
    "\n",
    "    # declaring the empty string\n",
    "    password = \"\"\n",
    "\n",
    "    # loop to generate the random password of the length entered           \n",
    "    # by the user\n",
    "    for x in range(passlen.get()):\n",
    "        password = password + random.choice(pass1)\n",
    "\n",
    "    # setting the password to the entry widget\n",
    "    passstr.set(password)\n",
    "\n",
    "# function to copy the password to the clipboard\n",
    "def copytoclipboard():\n",
    "    random_password = passstr.get()\n",
    "    pyperclip.copy(random_password)\n",
    "\n",
    "# Creating a text label widget\n",
    "Label(root, text=\"Password Generator Application\", font=\"calibri 20 bold\").pack()\n",
    "\n",
    "# Creating a text label widget\n",
    "Label(root, text=\"Enter password length\").pack(pady=3)\n",
    "\n",
    "# Creating a entry widget to take password length entered by the \n",
    "# user\n",
    "Entry(root, textvariable=passlen).pack(pady=3)\n",
    "\n",
    "# button to call the generate function\n",
    "Button(root, text=\"Generate Password\", command=generate).pack(pady=7)\n",
    "\n",
    "# entry widget to show the generated password\n",
    "Entry(root, textvariable=passstr).pack(pady=3)\n",
    "\n",
    "# button to call the copytoclipboard function\n",
    "Button(root, text=\"Copy to clipboard\", command=copytoclipboard).pack()\n",
    "\n",
    "# mainloop() is an infinite loop used to run the application when \n",
    "# it's in ready state \n",
    "root.mainloop()"
   ]
  },
  {
   "cell_type": "code",
   "execution_count": null,
   "metadata": {},
   "outputs": [],
   "source": []
  },
  {
   "cell_type": "code",
   "execution_count": null,
   "metadata": {},
   "outputs": [],
   "source": []
  }
 ],
 "metadata": {
  "kernelspec": {
   "display_name": "Python 3",
   "language": "python",
   "name": "python3"
  },
  "language_info": {
   "codemirror_mode": {
    "name": "ipython",
    "version": 3
   },
   "file_extension": ".py",
   "mimetype": "text/x-python",
   "name": "python",
   "nbconvert_exporter": "python",
   "pygments_lexer": "ipython3",
   "version": "3.7.4"
  }
 },
 "nbformat": 4,
 "nbformat_minor": 2
}
